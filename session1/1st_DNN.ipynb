{
  "nbformat": 4,
  "nbformat_minor": 0,
  "metadata": {
    "colab": {
      "name": "1st_DNN.ipynb",
      "provenance": [],
      "collapsed_sections": [],
      "include_colab_link": true
    },
    "kernelspec": {
      "name": "python3",
      "display_name": "Python 3"
    },
    "accelerator": "GPU"
  },
  "cells": [
    {
      "cell_type": "markdown",
      "metadata": {
        "id": "view-in-github",
        "colab_type": "text"
      },
      "source": [
        "<a href=\"https://colab.research.google.com/github/BirenderPanwar/TSAI_EIP4_Phase1/blob/master/session1/1st_DNN.ipynb\" target=\"_parent\"><img src=\"https://colab.research.google.com/assets/colab-badge.svg\" alt=\"Open In Colab\"/></a>"
      ]
    },
    {
      "cell_type": "markdown",
      "metadata": {
        "id": "aNyZv-Ec52ot",
        "colab_type": "text"
      },
      "source": [
        "# **Import Libraries and modules**"
      ]
    },
    {
      "cell_type": "code",
      "metadata": {
        "id": "3m3w1Cw49Zkt",
        "colab_type": "code",
        "outputId": "caafbd0f-3303-4556-9239-fae9aaceb803",
        "colab": {
          "base_uri": "https://localhost:8080/",
          "height": 81
        }
      },
      "source": [
        "# https://keras.io/\n",
        "!pip install -q keras\n",
        "import keras"
      ],
      "execution_count": 1,
      "outputs": [
        {
          "output_type": "stream",
          "text": [
            "Using TensorFlow backend.\n"
          ],
          "name": "stderr"
        },
        {
          "output_type": "display_data",
          "data": {
            "text/html": [
              "<p style=\"color: red;\">\n",
              "The default version of TensorFlow in Colab will soon switch to TensorFlow 2.x.<br>\n",
              "We recommend you <a href=\"https://www.tensorflow.org/guide/migrate\" target=\"_blank\">upgrade</a> now \n",
              "or ensure your notebook will continue to use TensorFlow 1.x via the <code>%tensorflow_version 1.x</code> magic:\n",
              "<a href=\"https://colab.research.google.com/notebooks/tensorflow_version.ipynb\" target=\"_blank\">more info</a>.</p>\n"
            ],
            "text/plain": [
              "<IPython.core.display.HTML object>"
            ]
          },
          "metadata": {
            "tags": []
          }
        }
      ]
    },
    {
      "cell_type": "code",
      "metadata": {
        "id": "Eso6UHE080D4",
        "colab_type": "code",
        "colab": {}
      },
      "source": [
        "import numpy as np\n",
        "\n",
        "from keras.models import Sequential\n",
        "from keras.layers import Dense, Dropout, Activation, Flatten, Add\n",
        "from keras.layers import Convolution2D, MaxPooling2D\n",
        "from keras.utils import np_utils\n",
        "\n",
        "from keras.datasets import mnist"
      ],
      "execution_count": 0,
      "outputs": []
    },
    {
      "cell_type": "markdown",
      "metadata": {
        "id": "zByEi95J86RD",
        "colab_type": "text"
      },
      "source": [
        "### Load pre-shuffled MNIST data into train and test sets"
      ]
    },
    {
      "cell_type": "code",
      "metadata": {
        "id": "7eRM0QWN83PV",
        "colab_type": "code",
        "colab": {}
      },
      "source": [
        "(X_train, y_train), (X_test, y_test) = mnist.load_data()"
      ],
      "execution_count": 0,
      "outputs": []
    },
    {
      "cell_type": "code",
      "metadata": {
        "id": "4a4Be72j8-ZC",
        "colab_type": "code",
        "outputId": "c901200e-7383-49c3-ab30-98408169cb1a",
        "colab": {
          "base_uri": "https://localhost:8080/",
          "height": 300
        }
      },
      "source": [
        "print (X_train.shape)\n",
        "from matplotlib import pyplot as plt\n",
        "%matplotlib inline\n",
        "plt.imshow(X_train[0])"
      ],
      "execution_count": 4,
      "outputs": [
        {
          "output_type": "stream",
          "text": [
            "(60000, 28, 28)\n"
          ],
          "name": "stdout"
        },
        {
          "output_type": "execute_result",
          "data": {
            "text/plain": [
              "<matplotlib.image.AxesImage at 0x7fea962605f8>"
            ]
          },
          "metadata": {
            "tags": []
          },
          "execution_count": 4
        },
        {
          "output_type": "display_data",
          "data": {
            "image/png": "[encoded data removed]",
            "text/plain": [
              "<Figure size 432x288 with 1 Axes>"
            ]
          },
          "metadata": {
            "tags": []
          }
        }
      ]
    },
    {
      "cell_type": "code",
      "metadata": {
        "id": "0Htx6xzb2rMF",
        "colab_type": "code",
        "colab": {
          "base_uri": "https://localhost:8080/",
          "height": 109
        },
        "outputId": "75c4e1c7-9bd6-44b1-f82e-7898c61e2ef4"
      },
      "source": [
        "# look for few more images to get the idea of number of pixels network must see to get the gradient/edges extractions\n",
        "num_images = 5\n",
        "for index,image in enumerate(X_train[:num_images]):\n",
        "  plt.subplot(2,num_images,index+1)\n",
        "  plt.imshow(X_train[index])\n"
      ],
      "execution_count": 5,
      "outputs": [
        {
          "output_type": "display_data",
          "data": {
            "image/png": "[encoded data removed]",
            "text/plain": [
              "<Figure size 432x288 with 5 Axes>"
            ]
          },
          "metadata": {
            "tags": []
          }
        }
      ]
    },
    {
      "cell_type": "code",
      "metadata": {
        "id": "dkmprriw9AnZ",
        "colab_type": "code",
        "colab": {}
      },
      "source": [
        "X_train = X_train.reshape(X_train.shape[0], 28, 28,1)\n",
        "X_test = X_test.reshape(X_test.shape[0], 28, 28,1)"
      ],
      "execution_count": 0,
      "outputs": []
    },
    {
      "cell_type": "code",
      "metadata": {
        "id": "X2m4YS4E9CRh",
        "colab_type": "code",
        "colab": {}
      },
      "source": [
        "X_train = X_train.astype('float32')\n",
        "X_test = X_test.astype('float32')\n",
        "X_train /= 255\n",
        "X_test /= 255"
      ],
      "execution_count": 0,
      "outputs": []
    },
    {
      "cell_type": "code",
      "metadata": {
        "id": "0Mn0vAYD9DvB",
        "colab_type": "code",
        "outputId": "2fcc7b9c-d9f3-4be6-e320-ae77e870eb44",
        "colab": {
          "base_uri": "https://localhost:8080/",
          "height": 35
        }
      },
      "source": [
        "y_train[:10]"
      ],
      "execution_count": 8,
      "outputs": [
        {
          "output_type": "execute_result",
          "data": {
            "text/plain": [
              "array([5, 0, 4, 1, 9, 2, 1, 3, 1, 4], dtype=uint8)"
            ]
          },
          "metadata": {
            "tags": []
          },
          "execution_count": 8
        }
      ]
    },
    {
      "cell_type": "code",
      "metadata": {
        "id": "ZG8JiXR39FHC",
        "colab_type": "code",
        "colab": {}
      },
      "source": [
        "# Convert 1-dimensional class arrays to 10-dimensional class matrices\n",
        "Y_train = np_utils.to_categorical(y_train, 10)\n",
        "Y_test = np_utils.to_categorical(y_test, 10)"
      ],
      "execution_count": 0,
      "outputs": []
    },
    {
      "cell_type": "code",
      "metadata": {
        "id": "fYlFRvKS9HMB",
        "colab_type": "code",
        "outputId": "b5d0f31f-7a78-4bad-c10b-31536596aa7c",
        "colab": {
          "base_uri": "https://localhost:8080/",
          "height": 191
        }
      },
      "source": [
        "Y_train[:10]\n"
      ],
      "execution_count": 10,
      "outputs": [
        {
          "output_type": "execute_result",
          "data": {
            "text/plain": [
              "array([[0., 0., 0., 0., 0., 1., 0., 0., 0., 0.],\n",
              "       [1., 0., 0., 0., 0., 0., 0., 0., 0., 0.],\n",
              "       [0., 0., 0., 0., 1., 0., 0., 0., 0., 0.],\n",
              "       [0., 1., 0., 0., 0., 0., 0., 0., 0., 0.],\n",
              "       [0., 0., 0., 0., 0., 0., 0., 0., 0., 1.],\n",
              "       [0., 0., 1., 0., 0., 0., 0., 0., 0., 0.],\n",
              "       [0., 1., 0., 0., 0., 0., 0., 0., 0., 0.],\n",
              "       [0., 0., 0., 1., 0., 0., 0., 0., 0., 0.],\n",
              "       [0., 1., 0., 0., 0., 0., 0., 0., 0., 0.],\n",
              "       [0., 0., 0., 0., 1., 0., 0., 0., 0., 0.]], dtype=float32)"
            ]
          },
          "metadata": {
            "tags": []
          },
          "execution_count": 10
        }
      ]
    },
    {
      "cell_type": "code",
      "metadata": {
        "id": "kyaA1UsNqXwL",
        "colab_type": "code",
        "outputId": "5b7d2cb4-0d50-467b-9850-db1cba2d7557",
        "colab": {
          "base_uri": "https://localhost:8080/",
          "height": 141
        }
      },
      "source": [
        "from keras.layers import Activation\n",
        "model = Sequential(name=\"model_mnist\")\n",
        "\n",
        "# Block-1 Convolutions\n",
        "model.add(Convolution2D(32,(3,3), activation='relu', input_shape=(28,28,1), use_bias = False, name=\"blk1_conv_layer1\")) # 26X26X32\n",
        "model.add(Convolution2D(64,(3,3), activation='relu', use_bias = False, name=\"blk1_conv_layer2\")) # 24X24X64\n",
        "model.add(MaxPooling2D((2,2), name=\"blk1_maxpool\")) # 12X12X64\n",
        "model.add(Convolution2D(32,(1,1), activation='relu', use_bias = False, name=\"blk1_conv_layer3\")) # 12X12X32\n",
        "\n",
        "# Block-2 Convolutions\n",
        "model.add(Convolution2D(32,(3,3), activation='relu', use_bias = False, name=\"blk2_conv_layer1\")) # 10X10X32\n",
        "model.add(Convolution2D(64,(3,3), activation='relu', use_bias = False, name=\"blk2_conv_layer2\")) # 8X8X64\n",
        "model.add(Convolution2D(128,(3,3), activation='relu', use_bias = False, name=\"blk2_conv_layer3\")) # 6X6X128\n",
        "model.add(MaxPooling2D((2,2), name=\"blk2_maxpool\"))  # 3X3X128\n",
        "model.add(Convolution2D(10,(1,1), activation='relu', use_bias = False, name=\"blk2_conv_layer4\")) # 3X3X10\n",
        "\n",
        "# Block-3 : just to get 10 channels as we have 10 classes at output\n",
        "model.add(Convolution2D(10,(3,3), use_bias = False, name=\"blk3_conv_layer1\")) # 1X1X10\n",
        "\n",
        "model.add(Flatten(name='flatten'))\n",
        "model.add(Activation('softmax', name=\"output\"))"
      ],
      "execution_count": 11,
      "outputs": [
        {
          "output_type": "stream",
          "text": [
            "WARNING:tensorflow:From /usr/local/lib/python3.6/dist-packages/keras/backend/tensorflow_backend.py:541: The name tf.placeholder is deprecated. Please use tf.compat.v1.placeholder instead.\n",
            "\n",
            "WARNING:tensorflow:From /usr/local/lib/python3.6/dist-packages/keras/backend/tensorflow_backend.py:4432: The name tf.random_uniform is deprecated. Please use tf.random.uniform instead.\n",
            "\n",
            "WARNING:tensorflow:From /usr/local/lib/python3.6/dist-packages/keras/backend/tensorflow_backend.py:4267: The name tf.nn.max_pool is deprecated. Please use tf.nn.max_pool2d instead.\n",
            "\n"
          ],
          "name": "stdout"
        }
      ]
    },
    {
      "cell_type": "code",
      "metadata": {
        "id": "TzdAYg1k9K7Z",
        "colab_type": "code",
        "outputId": "9c508f14-66a2-4dc1-91f6-9925f7ca00bf",
        "colab": {
          "base_uri": "https://localhost:8080/",
          "height": 572
        }
      },
      "source": [
        "model.summary()"
      ],
      "execution_count": 12,
      "outputs": [
        {
          "output_type": "stream",
          "text": [
            "Model: \"model_mnist\"\n",
            "_________________________________________________________________\n",
            "Layer (type)                 Output Shape              Param #   \n",
            "=================================================================\n",
            "blk1_conv_layer1 (Conv2D)    (None, 26, 26, 32)        288       \n",
            "_________________________________________________________________\n",
            "blk1_conv_layer2 (Conv2D)    (None, 24, 24, 64)        18432     \n",
            "_________________________________________________________________\n",
            "blk1_maxpool (MaxPooling2D)  (None, 12, 12, 64)        0         \n",
            "_________________________________________________________________\n",
            "blk1_conv_layer3 (Conv2D)    (None, 12, 12, 32)        2048      \n",
            "_________________________________________________________________\n",
            "blk2_conv_layer1 (Conv2D)    (None, 10, 10, 32)        9216      \n",
            "_________________________________________________________________\n",
            "blk2_conv_layer2 (Conv2D)    (None, 8, 8, 64)          18432     \n",
            "_________________________________________________________________\n",
            "blk2_conv_layer3 (Conv2D)    (None, 6, 6, 128)         73728     \n",
            "_________________________________________________________________\n",
            "blk2_maxpool (MaxPooling2D)  (None, 3, 3, 128)         0         \n",
            "_________________________________________________________________\n",
            "blk2_conv_layer4 (Conv2D)    (None, 3, 3, 10)          1280      \n",
            "_________________________________________________________________\n",
            "blk3_conv_layer1 (Conv2D)    (None, 1, 1, 10)          900       \n",
            "_________________________________________________________________\n",
            "flatten (Flatten)            (None, 10)                0         \n",
            "_________________________________________________________________\n",
            "output (Activation)          (None, 10)                0         \n",
            "=================================================================\n",
            "Total params: 124,324\n",
            "Trainable params: 124,324\n",
            "Non-trainable params: 0\n",
            "_________________________________________________________________\n"
          ],
          "name": "stdout"
        }
      ]
    },
    {
      "cell_type": "code",
      "metadata": {
        "id": "Zp6SuGrL9M3h",
        "colab_type": "code",
        "outputId": "7740d4d0-da09-49e6-d385-1b46420579a7",
        "colab": {
          "base_uri": "https://localhost:8080/",
          "height": 107
        }
      },
      "source": [
        "model.compile(loss='categorical_crossentropy',\n",
        "             optimizer=\"adam\",\n",
        "             metrics=['accuracy'])"
      ],
      "execution_count": 13,
      "outputs": [
        {
          "output_type": "stream",
          "text": [
            "WARNING:tensorflow:From /usr/local/lib/python3.6/dist-packages/keras/optimizers.py:793: The name tf.train.Optimizer is deprecated. Please use tf.compat.v1.train.Optimizer instead.\n",
            "\n",
            "WARNING:tensorflow:From /usr/local/lib/python3.6/dist-packages/keras/backend/tensorflow_backend.py:3576: The name tf.log is deprecated. Please use tf.math.log instead.\n",
            "\n"
          ],
          "name": "stdout"
        }
      ]
    },
    {
      "cell_type": "code",
      "metadata": {
        "id": "4xWoKhPY9Of5",
        "colab_type": "code",
        "outputId": "d6ebf9cf-6b42-40dc-bed7-248c3ff73a69",
        "colab": {
          "base_uri": "https://localhost:8080/",
          "height": 973
        }
      },
      "source": [
        "model.fit(X_train, Y_train, batch_size=28, nb_epoch=16, verbose=1)"
      ],
      "execution_count": 14,
      "outputs": [
        {
          "output_type": "stream",
          "text": [
            "WARNING:tensorflow:From /usr/local/lib/python3.6/dist-packages/tensorflow_core/python/ops/math_grad.py:1424: where (from tensorflow.python.ops.array_ops) is deprecated and will be removed in a future version.\n",
            "Instructions for updating:\n",
            "Use tf.where in 2.0, which has the same broadcast rule as np.where\n",
            "WARNING:tensorflow:From /usr/local/lib/python3.6/dist-packages/keras/backend/tensorflow_backend.py:1033: The name tf.assign_add is deprecated. Please use tf.compat.v1.assign_add instead.\n",
            "\n"
          ],
          "name": "stdout"
        },
        {
          "output_type": "stream",
          "text": [
            "/usr/local/lib/python3.6/dist-packages/ipykernel_launcher.py:1: UserWarning: The `nb_epoch` argument in `fit` has been renamed `epochs`.\n",
            "  \"\"\"Entry point for launching an IPython kernel.\n"
          ],
          "name": "stderr"
        },
        {
          "output_type": "stream",
          "text": [
            "WARNING:tensorflow:From /usr/local/lib/python3.6/dist-packages/keras/backend/tensorflow_backend.py:1020: The name tf.assign is deprecated. Please use tf.compat.v1.assign instead.\n",
            "\n",
            "WARNING:tensorflow:From /usr/local/lib/python3.6/dist-packages/keras/backend/tensorflow_backend.py:3005: The name tf.Session is deprecated. Please use tf.compat.v1.Session instead.\n",
            "\n",
            "Epoch 1/16\n",
            "WARNING:tensorflow:From /usr/local/lib/python3.6/dist-packages/keras/backend/tensorflow_backend.py:190: The name tf.get_default_session is deprecated. Please use tf.compat.v1.get_default_session instead.\n",
            "\n",
            "WARNING:tensorflow:From /usr/local/lib/python3.6/dist-packages/keras/backend/tensorflow_backend.py:197: The name tf.ConfigProto is deprecated. Please use tf.compat.v1.ConfigProto instead.\n",
            "\n",
            "WARNING:tensorflow:From /usr/local/lib/python3.6/dist-packages/keras/backend/tensorflow_backend.py:207: The name tf.global_variables is deprecated. Please use tf.compat.v1.global_variables instead.\n",
            "\n",
            "WARNING:tensorflow:From /usr/local/lib/python3.6/dist-packages/keras/backend/tensorflow_backend.py:216: The name tf.is_variable_initialized is deprecated. Please use tf.compat.v1.is_variable_initialized instead.\n",
            "\n",
            "WARNING:tensorflow:From /usr/local/lib/python3.6/dist-packages/keras/backend/tensorflow_backend.py:223: The name tf.variables_initializer is deprecated. Please use tf.compat.v1.variables_initializer instead.\n",
            "\n",
            "60000/60000 [==============================] - 18s 296us/step - loss: 0.1644 - acc: 0.9489\n",
            "Epoch 2/16\n",
            "60000/60000 [==============================] - 15s 248us/step - loss: 0.0530 - acc: 0.9841\n",
            "Epoch 3/16\n",
            "60000/60000 [==============================] - 15s 254us/step - loss: 0.0403 - acc: 0.9874\n",
            "Epoch 4/16\n",
            "60000/60000 [==============================] - 15s 253us/step - loss: 0.0302 - acc: 0.9906\n",
            "Epoch 5/16\n",
            "60000/60000 [==============================] - 15s 253us/step - loss: 0.0251 - acc: 0.9926\n",
            "Epoch 6/16\n",
            "60000/60000 [==============================] - 15s 251us/step - loss: 0.0214 - acc: 0.9932\n",
            "Epoch 7/16\n",
            "60000/60000 [==============================] - 15s 249us/step - loss: 0.0177 - acc: 0.9941\n",
            "Epoch 8/16\n",
            "60000/60000 [==============================] - 15s 243us/step - loss: 0.0158 - acc: 0.9947\n",
            "Epoch 9/16\n",
            "60000/60000 [==============================] - 15s 252us/step - loss: 0.0131 - acc: 0.9958\n",
            "Epoch 10/16\n",
            "60000/60000 [==============================] - 15s 255us/step - loss: 0.0127 - acc: 0.9959\n",
            "Epoch 11/16\n",
            "60000/60000 [==============================] - 15s 256us/step - loss: 0.0100 - acc: 0.9968\n",
            "Epoch 12/16\n",
            "60000/60000 [==============================] - 15s 256us/step - loss: 0.0113 - acc: 0.9966\n",
            "Epoch 13/16\n",
            "60000/60000 [==============================] - 15s 254us/step - loss: 0.0090 - acc: 0.9970\n",
            "Epoch 14/16\n",
            "60000/60000 [==============================] - 15s 253us/step - loss: 0.0096 - acc: 0.9972\n",
            "Epoch 15/16\n",
            "60000/60000 [==============================] - 16s 262us/step - loss: 0.0089 - acc: 0.9975\n",
            "Epoch 16/16\n",
            "60000/60000 [==============================] - 15s 255us/step - loss: 0.0081 - acc: 0.9976\n"
          ],
          "name": "stdout"
        },
        {
          "output_type": "execute_result",
          "data": {
            "text/plain": [
              "<keras.callbacks.History at 0x7fea962cf8d0>"
            ]
          },
          "metadata": {
            "tags": []
          },
          "execution_count": 14
        }
      ]
    },
    {
      "cell_type": "code",
      "metadata": {
        "id": "AtsH-lLk-eLb",
        "colab_type": "code",
        "colab": {}
      },
      "source": [
        "score = model.evaluate(X_test, Y_test, verbose=0)"
      ],
      "execution_count": 0,
      "outputs": []
    },
    {
      "cell_type": "code",
      "metadata": {
        "id": "mkX8JMv79q9r",
        "colab_type": "code",
        "outputId": "9afa5c73-7e46-49b4-864f-db20e6dcfb30",
        "colab": {
          "base_uri": "https://localhost:8080/",
          "height": 35
        }
      },
      "source": [
        "print(score)"
      ],
      "execution_count": 16,
      "outputs": [
        {
          "output_type": "stream",
          "text": [
            "[0.02890534537282251, 0.9928]\n"
          ],
          "name": "stdout"
        }
      ]
    },
    {
      "cell_type": "code",
      "metadata": {
        "id": "OCWoJkwE9suh",
        "colab_type": "code",
        "colab": {}
      },
      "source": [
        "y_pred = model.predict(X_test)"
      ],
      "execution_count": 0,
      "outputs": []
    },
    {
      "cell_type": "code",
      "metadata": {
        "id": "Ym7iCFBm9uBs",
        "colab_type": "code",
        "outputId": "a3b9c349-d410-46a6-cf6f-8face5a78629",
        "colab": {
          "base_uri": "https://localhost:8080/",
          "height": 347
        }
      },
      "source": [
        "print(y_pred[:9])\n",
        "print(y_test[:9])"
      ],
      "execution_count": 18,
      "outputs": [
        {
          "output_type": "stream",
          "text": [
            "[[1.0048362e-17 1.8369254e-15 4.3658303e-11 3.3806926e-11 6.8691043e-20\n",
            "  1.8073432e-15 3.3078490e-27 1.0000000e+00 7.2488055e-19 3.2019292e-15]\n",
            " [5.6212359e-14 2.2242358e-12 1.0000000e+00 1.4651803e-20 8.1674185e-19\n",
            "  1.3119344e-24 5.1446870e-18 4.6851239e-21 3.8524306e-17 5.0370036e-27]\n",
            " [2.7887935e-13 1.0000000e+00 1.1553079e-08 7.3101620e-15 9.6273274e-09\n",
            "  3.1407983e-09 1.8165025e-10 5.1099325e-10 2.7495901e-11 3.6255310e-10]\n",
            " [1.0000000e+00 1.6792652e-15 7.2197623e-11 2.0961479e-14 1.8396244e-16\n",
            "  4.6924921e-14 2.4761421e-08 2.0796520e-15 4.4267989e-11 7.3762597e-14]\n",
            " [1.3885496e-20 3.8514297e-14 1.8779635e-15 2.0785433e-21 1.0000000e+00\n",
            "  1.1079541e-17 9.7856883e-17 3.5825978e-16 1.7774625e-13 1.1874650e-13]\n",
            " [1.7338203e-15 1.0000000e+00 1.2321875e-09 8.0340877e-17 6.9338646e-10\n",
            "  8.7515021e-12 3.1662346e-13 1.8540707e-08 5.1830168e-12 1.1729983e-11]\n",
            " [9.4291882e-20 8.2095421e-11 2.0749880e-12 8.8670395e-18 1.0000000e+00\n",
            "  4.8023445e-13 6.8089734e-19 1.4719917e-10 1.1665999e-10 6.5891492e-10]\n",
            " [2.4146904e-10 1.1822536e-12 3.1607548e-13 1.5344160e-15 2.8510499e-07\n",
            "  7.2007732e-13 8.3272405e-17 7.7445084e-10 5.9861875e-08 9.9999964e-01]\n",
            " [5.4990474e-11 1.1370414e-15 1.2011518e-08 4.5801163e-16 2.5103159e-11\n",
            "  9.9435139e-01 1.2832023e-03 2.5782067e-15 4.3654451e-03 2.2962998e-15]]\n",
            "[7 2 1 0 4 1 4 9 5]\n"
          ],
          "name": "stdout"
        }
      ]
    },
    {
      "cell_type": "code",
      "metadata": {
        "id": "CT--y98_dr2T",
        "colab_type": "code",
        "colab": {}
      },
      "source": [
        "layer_dict = dict([(layer.name, layer) for layer in model.layers])"
      ],
      "execution_count": 0,
      "outputs": []
    },
    {
      "cell_type": "code",
      "metadata": {
        "id": "2GY4Upv4dsUR",
        "colab_type": "code",
        "outputId": "f7d14868-d135-4587-c563-49ab0ffd6753",
        "colab": {
          "base_uri": "https://localhost:8080/",
          "height": 837
        }
      },
      "source": [
        "import numpy as np\n",
        "from matplotlib import pyplot as plt\n",
        "from keras import backend as K\n",
        "%matplotlib inline\n",
        "# util function to convert a tensor into a valid image\n",
        "def deprocess_image(x):\n",
        "    # normalize tensor: center on 0., ensure std is 0.1\n",
        "    x -= x.mean()\n",
        "    x /= (x.std() + 1e-5)\n",
        "    x *= 0.1\n",
        "\n",
        "    # clip to [0, 1]\n",
        "    x += 0.5\n",
        "    x = np.clip(x, 0, 1)\n",
        "\n",
        "    # convert to RGB array\n",
        "    x *= 255\n",
        "    #x = x.transpose((1, 2, 0))\n",
        "    x = np.clip(x, 0, 255).astype('uint8')\n",
        "    return x\n",
        "\n",
        "def vis_img_in_filter(img = np.array(X_train[2]).reshape((1, 28, 28, 1)).astype(np.float64), \n",
        "                      layer_name = 'blk1_conv_layer1'):\n",
        "    layer_output = layer_dict[layer_name].output\n",
        "    img_ascs = list()\n",
        "    for filter_index in range(layer_output.shape[3]):\n",
        "        # build a loss function that maximizes the activation\n",
        "        # of the nth filter of the layer considered\n",
        "        loss = K.mean(layer_output[:, :, :, filter_index])\n",
        "\n",
        "        # compute the gradient of the input picture wrt this loss\n",
        "        grads = K.gradients(loss, model.input)[0]\n",
        "\n",
        "        # normalization trick: we normalize the gradient\n",
        "        grads /= (K.sqrt(K.mean(K.square(grads))) + 1e-5)\n",
        "\n",
        "        # this function returns the loss and grads given the input picture\n",
        "        iterate = K.function([model.input], [loss, grads])\n",
        "\n",
        "        # step size for gradient ascent\n",
        "        step = 5.\n",
        "\n",
        "        img_asc = np.array(img)\n",
        "        # run gradient ascent for 20 steps\n",
        "        for i in range(20):\n",
        "            loss_value, grads_value = iterate([img_asc])\n",
        "            img_asc += grads_value * step\n",
        "\n",
        "        img_asc = img_asc[0]\n",
        "        img_ascs.append(deprocess_image(img_asc).reshape((28, 28)))\n",
        "        \n",
        "    if layer_output.shape[3] >= 35:\n",
        "        plot_x, plot_y = 6, 6\n",
        "    elif layer_output.shape[3] >= 23:\n",
        "        plot_x, plot_y = 4, 6\n",
        "    elif layer_output.shape[3] >= 11:\n",
        "        plot_x, plot_y = 2, 6\n",
        "    else:\n",
        "        plot_x, plot_y = 1, 2\n",
        "    fig, ax = plt.subplots(plot_x, plot_y, figsize = (12, 12))\n",
        "    ax[0, 0].imshow(img.reshape((28, 28)), cmap = 'gray')\n",
        "    ax[0, 0].set_title('Input image')\n",
        "    fig.suptitle('Input image and %s filters' % (layer_name,))\n",
        "    fig.tight_layout(pad = 0.3, rect = [0, 0, 0.9, 0.9])\n",
        "    for (x, y) in [(i, j) for i in range(plot_x) for j in range(plot_y)]:\n",
        "        if x == 0 and y == 0:\n",
        "            continue\n",
        "        ax[x, y].imshow(img_ascs[x * plot_y + y - 1], cmap = 'gray')\n",
        "        ax[x, y].set_title('filter %d' % (x * plot_y + y - 1))\n",
        "\n",
        "vis_img_in_filter()"
      ],
      "execution_count": 20,
      "outputs": [
        {
          "output_type": "display_data",
          "data": {
            "image/png": "[encoded data removed]",
            "text/plain": [
              "<Figure size 864x864 with 24 Axes>"
            ]
          },
          "metadata": {
            "tags": []
          }
        }
      ]
    },
    {
      "cell_type": "code",
      "metadata": {
        "id": "9tvptcn8dxvp",
        "colab_type": "code",
        "colab": {}
      },
      "source": [
        ""
      ],
      "execution_count": 0,
      "outputs": []
    }
  ]
}