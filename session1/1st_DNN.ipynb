{
  "nbformat": 4,
  "nbformat_minor": 0,
  "metadata": {
    "colab": {
      "name": "1st_DNN.ipynb",
      "provenance": [],
      "collapsed_sections": [],
      "include_colab_link": true
    },
    "kernelspec": {
      "name": "python3",
      "display_name": "Python 3"
    },
    "accelerator": "GPU"
  },
  "cells": [
    {
      "cell_type": "markdown",
      "metadata": {
        "id": "view-in-github",
        "colab_type": "text"
      },
      "source": [
        "<a href=\"https://colab.research.google.com/github/BirenderPanwar/TSAI_EIP4_Phase1/blob/master/session1/1st_DNN.ipynb\" target=\"_parent\"><img src=\"https://colab.research.google.com/assets/colab-badge.svg\" alt=\"Open In Colab\"/></a>"
      ]
    },
    {
      "cell_type": "markdown",
      "metadata": {
        "id": "aNyZv-Ec52ot",
        "colab_type": "text"
      },
      "source": [
        "# **Import Libraries and modules**"
      ]
    },
    {
      "cell_type": "code",
      "metadata": {
        "id": "3m3w1Cw49Zkt",
        "colab_type": "code",
        "outputId": "675ff4ef-daa2-4502-bdd1-3ecdf671db6b",
        "colab": {
          "base_uri": "https://localhost:8080/",
          "height": 80
        }
      },
      "source": [
        "# https://keras.io/\n",
        "!pip install -q keras\n",
        "import keras"
      ],
      "execution_count": 1,
      "outputs": [
        {
          "output_type": "stream",
          "text": [
            "Using TensorFlow backend.\n"
          ],
          "name": "stderr"
        },
        {
          "output_type": "display_data",
          "data": {
            "text/html": [
              "<p style=\"color: red;\">\n",
              "The default version of TensorFlow in Colab will soon switch to TensorFlow 2.x.<br>\n",
              "We recommend you <a href=\"https://www.tensorflow.org/guide/migrate\" target=\"_blank\">upgrade</a> now \n",
              "or ensure your notebook will continue to use TensorFlow 1.x via the <code>%tensorflow_version 1.x</code> magic:\n",
              "<a href=\"https://colab.research.google.com/notebooks/tensorflow_version.ipynb\" target=\"_blank\">more info</a>.</p>\n"
            ],
            "text/plain": [
              "<IPython.core.display.HTML object>"
            ]
          },
          "metadata": {
            "tags": []
          }
        }
      ]
    },
    {
      "cell_type": "code",
      "metadata": {
        "id": "Eso6UHE080D4",
        "colab_type": "code",
        "colab": {}
      },
      "source": [
        "import numpy as np\n",
        "\n",
        "from keras.models import Sequential\n",
        "from keras.layers import Dense, Dropout, Activation, Flatten, Add\n",
        "from keras.layers import Convolution2D, MaxPooling2D\n",
        "from keras.utils import np_utils\n",
        "\n",
        "from keras.datasets import mnist"
      ],
      "execution_count": 0,
      "outputs": []
    },
    {
      "cell_type": "markdown",
      "metadata": {
        "id": "zByEi95J86RD",
        "colab_type": "text"
      },
      "source": [
        "### Load pre-shuffled MNIST data into train and test sets"
      ]
    },
    {
      "cell_type": "code",
      "metadata": {
        "id": "7eRM0QWN83PV",
        "colab_type": "code",
        "colab": {}
      },
      "source": [
        "(X_train, y_train), (X_test, y_test) = mnist.load_data()"
      ],
      "execution_count": 0,
      "outputs": []
    },
    {
      "cell_type": "code",
      "metadata": {
        "id": "4a4Be72j8-ZC",
        "colab_type": "code",
        "outputId": "97df4130-47a6-400d-9e63-0d13ddea0e90",
        "colab": {
          "base_uri": "https://localhost:8080/",
          "height": 299
        }
      },
      "source": [
        "print (X_train.shape)\n",
        "from matplotlib import pyplot as plt\n",
        "%matplotlib inline\n",
        "plt.imshow(X_train[0])"
      ],
      "execution_count": 4,
      "outputs": [
        {
          "output_type": "stream",
          "text": [
            "(60000, 28, 28)\n"
          ],
          "name": "stdout"
        },
        {
          "output_type": "execute_result",
          "data": {
            "text/plain": [
              "<matplotlib.image.AxesImage at 0x7f60eaaad390>"
            ]
          },
          "metadata": {
            "tags": []
          },
          "execution_count": 4
        },
        {
          "output_type": "display_data",
          "data": {
            "image/png": "[encoded data removed]",
            "text/plain": [
              "<Figure size 432x288 with 1 Axes>"
            ]
          },
          "metadata": {
            "tags": []
          }
        }
      ]
    },
    {
      "cell_type": "code",
      "metadata": {
        "id": "dkmprriw9AnZ",
        "colab_type": "code",
        "colab": {}
      },
      "source": [
        "X_train = X_train.reshape(X_train.shape[0], 28, 28,1)\n",
        "X_test = X_test.reshape(X_test.shape[0], 28, 28,1)"
      ],
      "execution_count": 0,
      "outputs": []
    },
    {
      "cell_type": "code",
      "metadata": {
        "id": "X2m4YS4E9CRh",
        "colab_type": "code",
        "colab": {}
      },
      "source": [
        "X_train = X_train.astype('float32')\n",
        "X_test = X_test.astype('float32')\n",
        "X_train /= 255\n",
        "X_test /= 255"
      ],
      "execution_count": 0,
      "outputs": []
    },
    {
      "cell_type": "code",
      "metadata": {
        "id": "0Mn0vAYD9DvB",
        "colab_type": "code",
        "outputId": "30eb33c2-2cc4-4404-83b1-43e4c18fc7dd",
        "colab": {
          "base_uri": "https://localhost:8080/",
          "height": 34
        }
      },
      "source": [
        "y_train[:10]"
      ],
      "execution_count": 7,
      "outputs": [
        {
          "output_type": "execute_result",
          "data": {
            "text/plain": [
              "array([5, 0, 4, 1, 9, 2, 1, 3, 1, 4], dtype=uint8)"
            ]
          },
          "metadata": {
            "tags": []
          },
          "execution_count": 7
        }
      ]
    },
    {
      "cell_type": "code",
      "metadata": {
        "id": "ZG8JiXR39FHC",
        "colab_type": "code",
        "colab": {}
      },
      "source": [
        "# Convert 1-dimensional class arrays to 10-dimensional class matrices\n",
        "Y_train = np_utils.to_categorical(y_train, 10)\n",
        "Y_test = np_utils.to_categorical(y_test, 10)"
      ],
      "execution_count": 0,
      "outputs": []
    },
    {
      "cell_type": "code",
      "metadata": {
        "id": "fYlFRvKS9HMB",
        "colab_type": "code",
        "outputId": "847e2c22-76e2-49b6-e9e6-0f6854bee54d",
        "colab": {
          "base_uri": "https://localhost:8080/",
          "height": 187
        }
      },
      "source": [
        "Y_train[:10]\n"
      ],
      "execution_count": 9,
      "outputs": [
        {
          "output_type": "execute_result",
          "data": {
            "text/plain": [
              "array([[0., 0., 0., 0., 0., 1., 0., 0., 0., 0.],\n",
              "       [1., 0., 0., 0., 0., 0., 0., 0., 0., 0.],\n",
              "       [0., 0., 0., 0., 1., 0., 0., 0., 0., 0.],\n",
              "       [0., 1., 0., 0., 0., 0., 0., 0., 0., 0.],\n",
              "       [0., 0., 0., 0., 0., 0., 0., 0., 0., 1.],\n",
              "       [0., 0., 1., 0., 0., 0., 0., 0., 0., 0.],\n",
              "       [0., 1., 0., 0., 0., 0., 0., 0., 0., 0.],\n",
              "       [0., 0., 0., 1., 0., 0., 0., 0., 0., 0.],\n",
              "       [0., 1., 0., 0., 0., 0., 0., 0., 0., 0.],\n",
              "       [0., 0., 0., 0., 1., 0., 0., 0., 0., 0.]], dtype=float32)"
            ]
          },
          "metadata": {
            "tags": []
          },
          "execution_count": 9
        }
      ]
    },
    {
      "cell_type": "code",
      "metadata": {
        "id": "kyaA1UsNqXwL",
        "colab_type": "code",
        "outputId": "b1fb2c90-6655-4438-e850-8f8a18749903",
        "colab": {
          "base_uri": "https://localhost:8080/",
          "height": 139
        }
      },
      "source": [
        "from keras.layers import Activation\n",
        "model = Sequential(name=\"model_mnist\")\n",
        "\n",
        "# Block-1 Convolutions\n",
        "model.add(Convolution2D(32,(3,3), activation='relu', input_shape=(28,28,1), use_bias = False, name=\"blk1_conv_layer1\")) # 26X26X32\n",
        "model.add(Convolution2D(64,(3,3), activation='relu', use_bias = False, name=\"blk1_conv_layer2\")) # 24X24X64\n",
        "model.add(MaxPooling2D((2,2), name=\"blk1_maxpool\")) # 12X12X64\n",
        "model.add(Convolution2D(32,(1,1), activation='relu', use_bias = False, name=\"blk1_conv_layer3\")) # 12X12X32\n",
        "\n",
        "# Block-2 Convolutions\n",
        "model.add(Convolution2D(32,(3,3), activation='relu', use_bias = False, name=\"blk2_conv_layer1\")) # 10X10X32\n",
        "model.add(Convolution2D(64,(3,3), activation='relu', use_bias = False, name=\"blk2_conv_layer2\")) # 8X8X64\n",
        "model.add(Convolution2D(128,(3,3), activation='relu', use_bias = False, name=\"blk2_conv_layer3\")) # 6X6X128\n",
        "model.add(MaxPooling2D((2,2), name=\"blk2_maxpool\"))  # 3X3X128\n",
        "model.add(Convolution2D(10,(1,1), activation='relu', use_bias = False, name=\"blk2_conv_layer4\")) # 3X3X10\n",
        "\n",
        "model.add(Convolution2D(10,(3,3), use_bias = False, name=\"blk3_conv_layer1\")) # 1X1X10\n",
        "\n",
        "model.add(Flatten(name='flatten'))\n",
        "model.add(Activation('softmax', name=\"output\"))"
      ],
      "execution_count": 10,
      "outputs": [
        {
          "output_type": "stream",
          "text": [
            "WARNING:tensorflow:From /usr/local/lib/python3.6/dist-packages/keras/backend/tensorflow_backend.py:541: The name tf.placeholder is deprecated. Please use tf.compat.v1.placeholder instead.\n",
            "\n",
            "WARNING:tensorflow:From /usr/local/lib/python3.6/dist-packages/keras/backend/tensorflow_backend.py:4432: The name tf.random_uniform is deprecated. Please use tf.random.uniform instead.\n",
            "\n",
            "WARNING:tensorflow:From /usr/local/lib/python3.6/dist-packages/keras/backend/tensorflow_backend.py:4267: The name tf.nn.max_pool is deprecated. Please use tf.nn.max_pool2d instead.\n",
            "\n"
          ],
          "name": "stdout"
        }
      ]
    },
    {
      "cell_type": "code",
      "metadata": {
        "id": "TzdAYg1k9K7Z",
        "colab_type": "code",
        "outputId": "cc087ae3-1d04-47ca-a941-d57247b43e0c",
        "colab": {
          "base_uri": "https://localhost:8080/",
          "height": 561
        }
      },
      "source": [
        "model.summary()"
      ],
      "execution_count": 11,
      "outputs": [
        {
          "output_type": "stream",
          "text": [
            "Model: \"model_mnist\"\n",
            "_________________________________________________________________\n",
            "Layer (type)                 Output Shape              Param #   \n",
            "=================================================================\n",
            "blk1_conv_layer1 (Conv2D)    (None, 26, 26, 32)        288       \n",
            "_________________________________________________________________\n",
            "blk1_conv_layer2 (Conv2D)    (None, 24, 24, 64)        18432     \n",
            "_________________________________________________________________\n",
            "blk1_maxpool (MaxPooling2D)  (None, 12, 12, 64)        0         \n",
            "_________________________________________________________________\n",
            "blk1_conv_layer3 (Conv2D)    (None, 12, 12, 32)        2048      \n",
            "_________________________________________________________________\n",
            "blk2_conv_layer1 (Conv2D)    (None, 10, 10, 32)        9216      \n",
            "_________________________________________________________________\n",
            "blk2_conv_layer2 (Conv2D)    (None, 8, 8, 64)          18432     \n",
            "_________________________________________________________________\n",
            "blk2_conv_layer3 (Conv2D)    (None, 6, 6, 128)         73728     \n",
            "_________________________________________________________________\n",
            "blk2_maxpool (MaxPooling2D)  (None, 3, 3, 128)         0         \n",
            "_________________________________________________________________\n",
            "blk2_conv_layer4 (Conv2D)    (None, 3, 3, 10)          1280      \n",
            "_________________________________________________________________\n",
            "blk3_conv_layer1 (Conv2D)    (None, 1, 1, 10)          900       \n",
            "_________________________________________________________________\n",
            "flatten (Flatten)            (None, 10)                0         \n",
            "_________________________________________________________________\n",
            "output (Activation)          (None, 10)                0         \n",
            "=================================================================\n",
            "Total params: 124,324\n",
            "Trainable params: 124,324\n",
            "Non-trainable params: 0\n",
            "_________________________________________________________________\n"
          ],
          "name": "stdout"
        }
      ]
    },
    {
      "cell_type": "code",
      "metadata": {
        "id": "Zp6SuGrL9M3h",
        "colab_type": "code",
        "outputId": "6fbac179-6249-4f86-9901-d9e93c7c854d",
        "colab": {
          "base_uri": "https://localhost:8080/",
          "height": 105
        }
      },
      "source": [
        "model.compile(loss='categorical_crossentropy',\n",
        "             optimizer=\"adam\",\n",
        "             metrics=['accuracy'])"
      ],
      "execution_count": 12,
      "outputs": [
        {
          "output_type": "stream",
          "text": [
            "WARNING:tensorflow:From /usr/local/lib/python3.6/dist-packages/keras/optimizers.py:793: The name tf.train.Optimizer is deprecated. Please use tf.compat.v1.train.Optimizer instead.\n",
            "\n",
            "WARNING:tensorflow:From /usr/local/lib/python3.6/dist-packages/keras/backend/tensorflow_backend.py:3576: The name tf.log is deprecated. Please use tf.math.log instead.\n",
            "\n"
          ],
          "name": "stdout"
        }
      ]
    },
    {
      "cell_type": "code",
      "metadata": {
        "id": "4xWoKhPY9Of5",
        "colab_type": "code",
        "outputId": "4d070232-f9a4-466e-9c69-f9bbfef49e0d",
        "colab": {
          "base_uri": "https://localhost:8080/",
          "height": 1000
        }
      },
      "source": [
        "model.fit(X_train, Y_train, batch_size=28, nb_epoch=20, verbose=1)"
      ],
      "execution_count": 13,
      "outputs": [
        {
          "output_type": "stream",
          "text": [
            "WARNING:tensorflow:From /usr/local/lib/python3.6/dist-packages/tensorflow_core/python/ops/math_grad.py:1424: where (from tensorflow.python.ops.array_ops) is deprecated and will be removed in a future version.\n",
            "Instructions for updating:\n",
            "Use tf.where in 2.0, which has the same broadcast rule as np.where\n",
            "WARNING:tensorflow:From /usr/local/lib/python3.6/dist-packages/keras/backend/tensorflow_backend.py:1033: The name tf.assign_add is deprecated. Please use tf.compat.v1.assign_add instead.\n",
            "\n"
          ],
          "name": "stdout"
        },
        {
          "output_type": "stream",
          "text": [
            "/usr/local/lib/python3.6/dist-packages/ipykernel_launcher.py:1: UserWarning: The `nb_epoch` argument in `fit` has been renamed `epochs`.\n",
            "  \"\"\"Entry point for launching an IPython kernel.\n"
          ],
          "name": "stderr"
        },
        {
          "output_type": "stream",
          "text": [
            "WARNING:tensorflow:From /usr/local/lib/python3.6/dist-packages/keras/backend/tensorflow_backend.py:1020: The name tf.assign is deprecated. Please use tf.compat.v1.assign instead.\n",
            "\n",
            "WARNING:tensorflow:From /usr/local/lib/python3.6/dist-packages/keras/backend/tensorflow_backend.py:3005: The name tf.Session is deprecated. Please use tf.compat.v1.Session instead.\n",
            "\n",
            "Epoch 1/20\n",
            "WARNING:tensorflow:From /usr/local/lib/python3.6/dist-packages/keras/backend/tensorflow_backend.py:190: The name tf.get_default_session is deprecated. Please use tf.compat.v1.get_default_session instead.\n",
            "\n",
            "WARNING:tensorflow:From /usr/local/lib/python3.6/dist-packages/keras/backend/tensorflow_backend.py:197: The name tf.ConfigProto is deprecated. Please use tf.compat.v1.ConfigProto instead.\n",
            "\n",
            "WARNING:tensorflow:From /usr/local/lib/python3.6/dist-packages/keras/backend/tensorflow_backend.py:207: The name tf.global_variables is deprecated. Please use tf.compat.v1.global_variables instead.\n",
            "\n",
            "WARNING:tensorflow:From /usr/local/lib/python3.6/dist-packages/keras/backend/tensorflow_backend.py:216: The name tf.is_variable_initialized is deprecated. Please use tf.compat.v1.is_variable_initialized instead.\n",
            "\n",
            "WARNING:tensorflow:From /usr/local/lib/python3.6/dist-packages/keras/backend/tensorflow_backend.py:223: The name tf.variables_initializer is deprecated. Please use tf.compat.v1.variables_initializer instead.\n",
            "\n",
            "60000/60000 [==============================] - 13s 210us/step - loss: 0.1650 - acc: 0.9476\n",
            "Epoch 2/20\n",
            "60000/60000 [==============================] - 10s 171us/step - loss: 0.0525 - acc: 0.9843\n",
            "Epoch 3/20\n",
            "60000/60000 [==============================] - 10s 170us/step - loss: 0.0391 - acc: 0.9878\n",
            "Epoch 4/20\n",
            "60000/60000 [==============================] - 10s 169us/step - loss: 0.0316 - acc: 0.9899\n",
            "Epoch 5/20\n",
            "60000/60000 [==============================] - 10s 172us/step - loss: 0.0245 - acc: 0.9921\n",
            "Epoch 6/20\n",
            "60000/60000 [==============================] - 10s 171us/step - loss: 0.0224 - acc: 0.9930\n",
            "Epoch 7/20\n",
            "60000/60000 [==============================] - 10s 168us/step - loss: 0.0184 - acc: 0.9944\n",
            "Epoch 8/20\n",
            "60000/60000 [==============================] - 10s 170us/step - loss: 0.0164 - acc: 0.9946\n",
            "Epoch 9/20\n",
            "60000/60000 [==============================] - 10s 171us/step - loss: 0.0136 - acc: 0.9958\n",
            "Epoch 10/20\n",
            "60000/60000 [==============================] - 10s 171us/step - loss: 0.0133 - acc: 0.9957\n",
            "Epoch 11/20\n",
            "60000/60000 [==============================] - 10s 174us/step - loss: 0.0126 - acc: 0.9958\n",
            "Epoch 12/20\n",
            "60000/60000 [==============================] - 10s 169us/step - loss: 0.0106 - acc: 0.9967\n",
            "Epoch 13/20\n",
            "60000/60000 [==============================] - 10s 168us/step - loss: 0.0103 - acc: 0.9966\n",
            "Epoch 14/20\n",
            "60000/60000 [==============================] - 10s 173us/step - loss: 0.0095 - acc: 0.9966\n",
            "Epoch 15/20\n",
            "60000/60000 [==============================] - 10s 170us/step - loss: 0.0086 - acc: 0.9971\n",
            "Epoch 16/20\n",
            "60000/60000 [==============================] - 10s 169us/step - loss: 0.0074 - acc: 0.9978\n",
            "Epoch 17/20\n",
            "60000/60000 [==============================] - 10s 171us/step - loss: 0.0082 - acc: 0.9974\n",
            "Epoch 18/20\n",
            "60000/60000 [==============================] - 10s 170us/step - loss: 0.0079 - acc: 0.9975\n",
            "Epoch 19/20\n",
            "60000/60000 [==============================] - 10s 172us/step - loss: 0.0081 - acc: 0.9975\n",
            "Epoch 20/20\n",
            "60000/60000 [==============================] - 10s 170us/step - loss: 0.0083 - acc: 0.9976\n"
          ],
          "name": "stdout"
        },
        {
          "output_type": "execute_result",
          "data": {
            "text/plain": [
              "<keras.callbacks.History at 0x7f60eaab57f0>"
            ]
          },
          "metadata": {
            "tags": []
          },
          "execution_count": 13
        }
      ]
    },
    {
      "cell_type": "code",
      "metadata": {
        "id": "AtsH-lLk-eLb",
        "colab_type": "code",
        "colab": {}
      },
      "source": [
        "score = model.evaluate(X_test, Y_test, verbose=0)"
      ],
      "execution_count": 0,
      "outputs": []
    },
    {
      "cell_type": "code",
      "metadata": {
        "id": "mkX8JMv79q9r",
        "colab_type": "code",
        "outputId": "37c19e7a-a3d3-4824-f7f3-712f3045fc13",
        "colab": {
          "base_uri": "https://localhost:8080/",
          "height": 34
        }
      },
      "source": [
        "print(score)"
      ],
      "execution_count": 15,
      "outputs": [
        {
          "output_type": "stream",
          "text": [
            "[0.04046478453790237, 0.9929]\n"
          ],
          "name": "stdout"
        }
      ]
    },
    {
      "cell_type": "code",
      "metadata": {
        "id": "OCWoJkwE9suh",
        "colab_type": "code",
        "colab": {}
      },
      "source": [
        "y_pred = model.predict(X_test)"
      ],
      "execution_count": 0,
      "outputs": []
    },
    {
      "cell_type": "code",
      "metadata": {
        "id": "Ym7iCFBm9uBs",
        "colab_type": "code",
        "outputId": "f21f45e4-b430-49b6-cb81-9b1e9b13d139",
        "colab": {
          "base_uri": "https://localhost:8080/",
          "height": 340
        }
      },
      "source": [
        "print(y_pred[:9])\n",
        "print(y_test[:9])"
      ],
      "execution_count": 17,
      "outputs": [
        {
          "output_type": "stream",
          "text": [
            "[[2.1250151e-14 2.0389508e-14 1.7423471e-11 1.8584370e-11 2.7258606e-16\n",
            "  1.2068390e-13 1.0432850e-21 1.0000000e+00 2.1386327e-14 3.6967825e-11]\n",
            " [4.3012582e-16 9.4931294e-15 1.0000000e+00 1.9151033e-17 2.7378275e-21\n",
            "  3.9623413e-22 6.7242198e-15 2.3760055e-16 4.3069741e-15 5.6432135e-22]\n",
            " [7.1393954e-14 1.0000000e+00 9.0084207e-12 7.8334592e-20 1.7740932e-12\n",
            "  1.4400323e-12 8.0097407e-14 9.1390979e-13 6.9841528e-11 8.5920965e-11]\n",
            " [1.0000000e+00 4.1863386e-17 1.5433865e-15 2.0783473e-19 2.0416579e-19\n",
            "  1.0282817e-15 3.1960370e-10 1.4669969e-14 7.0571981e-15 2.1986210e-15]\n",
            " [6.3699443e-27 7.2112533e-12 1.1499999e-17 3.2156311e-27 1.0000000e+00\n",
            "  5.1689543e-21 6.5330244e-21 2.1146502e-16 1.1254367e-16 5.6239607e-10]\n",
            " [3.1212709e-16 1.0000000e+00 3.8621182e-14 8.0308760e-23 7.0408295e-13\n",
            "  8.1935810e-16 2.9718217e-17 3.2760218e-12 2.9351633e-15 1.4546003e-11]\n",
            " [7.6624529e-28 6.8567169e-10 9.4089022e-17 2.5060970e-25 1.0000000e+00\n",
            "  9.2277564e-18 1.0915502e-26 7.0598177e-13 6.1907619e-13 1.4917234e-09]\n",
            " [2.4858986e-12 1.4056595e-16 7.5200263e-16 2.1526536e-13 3.6982414e-07\n",
            "  2.1215181e-15 1.7519769e-15 4.7764628e-17 2.4333539e-11 9.9999964e-01]\n",
            " [5.0099299e-17 8.7744143e-15 6.4920389e-18 8.7361014e-16 4.2365701e-18\n",
            "  9.9999940e-01 6.1351943e-07 6.5258642e-16 2.8671759e-10 1.2351715e-11]]\n",
            "[7 2 1 0 4 1 4 9 5]\n"
          ],
          "name": "stdout"
        }
      ]
    },
    {
      "cell_type": "code",
      "metadata": {
        "id": "CT--y98_dr2T",
        "colab_type": "code",
        "colab": {}
      },
      "source": [
        "layer_dict = dict([(layer.name, layer) for layer in model.layers])"
      ],
      "execution_count": 0,
      "outputs": []
    },
    {
      "cell_type": "code",
      "metadata": {
        "id": "2GY4Upv4dsUR",
        "colab_type": "code",
        "outputId": "952b4bc4-21ea-4e34-8a46-92a3f1ba298a",
        "colab": {
          "base_uri": "https://localhost:8080/",
          "height": 837
        }
      },
      "source": [
        "import numpy as np\n",
        "from matplotlib import pyplot as plt\n",
        "from keras import backend as K\n",
        "%matplotlib inline\n",
        "# util function to convert a tensor into a valid image\n",
        "def deprocess_image(x):\n",
        "    # normalize tensor: center on 0., ensure std is 0.1\n",
        "    x -= x.mean()\n",
        "    x /= (x.std() + 1e-5)\n",
        "    x *= 0.1\n",
        "\n",
        "    # clip to [0, 1]\n",
        "    x += 0.5\n",
        "    x = np.clip(x, 0, 1)\n",
        "\n",
        "    # convert to RGB array\n",
        "    x *= 255\n",
        "    #x = x.transpose((1, 2, 0))\n",
        "    x = np.clip(x, 0, 255).astype('uint8')\n",
        "    return x\n",
        "\n",
        "def vis_img_in_filter(img = np.array(X_train[2]).reshape((1, 28, 28, 1)).astype(np.float64), \n",
        "                      layer_name = 'blk1_conv_layer1'):\n",
        "    layer_output = layer_dict[layer_name].output\n",
        "    img_ascs = list()\n",
        "    for filter_index in range(layer_output.shape[3]):\n",
        "        # build a loss function that maximizes the activation\n",
        "        # of the nth filter of the layer considered\n",
        "        loss = K.mean(layer_output[:, :, :, filter_index])\n",
        "\n",
        "        # compute the gradient of the input picture wrt this loss\n",
        "        grads = K.gradients(loss, model.input)[0]\n",
        "\n",
        "        # normalization trick: we normalize the gradient\n",
        "        grads /= (K.sqrt(K.mean(K.square(grads))) + 1e-5)\n",
        "\n",
        "        # this function returns the loss and grads given the input picture\n",
        "        iterate = K.function([model.input], [loss, grads])\n",
        "\n",
        "        # step size for gradient ascent\n",
        "        step = 5.\n",
        "\n",
        "        img_asc = np.array(img)\n",
        "        # run gradient ascent for 20 steps\n",
        "        for i in range(20):\n",
        "            loss_value, grads_value = iterate([img_asc])\n",
        "            img_asc += grads_value * step\n",
        "\n",
        "        img_asc = img_asc[0]\n",
        "        img_ascs.append(deprocess_image(img_asc).reshape((28, 28)))\n",
        "        \n",
        "    if layer_output.shape[3] >= 35:\n",
        "        plot_x, plot_y = 6, 6\n",
        "    elif layer_output.shape[3] >= 23:\n",
        "        plot_x, plot_y = 4, 6\n",
        "    elif layer_output.shape[3] >= 11:\n",
        "        plot_x, plot_y = 2, 6\n",
        "    else:\n",
        "        plot_x, plot_y = 1, 2\n",
        "    fig, ax = plt.subplots(plot_x, plot_y, figsize = (12, 12))\n",
        "    ax[0, 0].imshow(img.reshape((28, 28)), cmap = 'gray')\n",
        "    ax[0, 0].set_title('Input image')\n",
        "    fig.suptitle('Input image and %s filters' % (layer_name,))\n",
        "    fig.tight_layout(pad = 0.3, rect = [0, 0, 0.9, 0.9])\n",
        "    for (x, y) in [(i, j) for i in range(plot_x) for j in range(plot_y)]:\n",
        "        if x == 0 and y == 0:\n",
        "            continue\n",
        "        ax[x, y].imshow(img_ascs[x * plot_y + y - 1], cmap = 'gray')\n",
        "        ax[x, y].set_title('filter %d' % (x * plot_y + y - 1))\n",
        "\n",
        "vis_img_in_filter()"
      ],
      "execution_count": 19,
      "outputs": [
        {
          "output_type": "display_data",
          "data": {
            "image/png": "[encoded data removed]",
            "text/plain": [
              "<Figure size 864x864 with 24 Axes>"
            ]
          },
          "metadata": {
            "tags": []
          }
        }
      ]
    },
    {
      "cell_type": "code",
      "metadata": {
        "id": "9tvptcn8dxvp",
        "colab_type": "code",
        "colab": {}
      },
      "source": [
        ""
      ],
      "execution_count": 0,
      "outputs": []
    }
  ]
}